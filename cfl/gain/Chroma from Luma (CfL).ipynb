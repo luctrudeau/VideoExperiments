{
 "cells": [
  {
   "cell_type": "markdown",
   "metadata": {},
   "source": [
    "# Chroma from Luma (CfL)\n",
    "\n",
    "Outline\n",
    "* Intro\n",
    "  * Overall description\n",
    "  * Other CfL Implementation\n",
    "  * How this is different\n",
    "* Fundamentals\n",
    "  * Model fitting\n",
    "  * Simplifications\n",
    "* Signaling\n",
    "* Quantization\n",
    "* Results"
   ]
  },
  {
   "cell_type": "markdown",
   "metadata": {},
   "source": [
    "## Introduction\n",
    "\n",
    "Chroma from Luma (CfL) is a coding tool that predicts information in the chromatic planes based on previously encoded information in the Luma plane. The underlining assumption is that a correlation exists between the Luma plane and its chromatic counterparts.\n",
    "\n",
    "In this document, we present the proposed CfL approach for the AV1 Codec. This new version of CfL draws from the strengths of the Cfl implementation of the Thor codec and the Cfl implementation of the Daala codec. \n",
    "\n",
    "In [[1]](https://tools.ietf.org/html/draft-midtskogen-netvc-chromapred-02), Midtskogen proposes to compute $\\alpha$ and $\\beta$ using the predicted values of Luma and Chroma. These values are available in both the encoder and decoder. As such, they are not signaled in the bitstream. Additionally, Midtskogen uses a threshold of 64 on the mean squared error between the reconstructed Luma pixel and the predicted Luma pixel to decide whether or not CfL should be used. An important note about the work of Midtskogen is that it applies to intra frame coding and inter frame coding.\n",
    "\n",
    "In [[2]](https://people.xiph.org/~unlord/spie_cfl.pdf), Egge and Valin propose a frequency domain version of CfL. the authors exploit the gain-shape coding nature of perceptual vector quantization (PVQ) to avoid having to perform model fitting to find $\\alpha$ and $\\beta$. As such, only a sign bit needs to be signaled. It is important to note that this version of CfL only predicts ACs coefficients.\n",
    "\n",
    "The proposed solution is similar to [1] in the it is performed in the spatial domain and least squares is used. However, it differs from [1] in that $\\alpha$ is signaled in the bitstream. As for $\\beta$, Midtskogen computes it using the least squares equation, we propose to use DC_PRED as the value of $\\beta$. This aligns with [2], in that CfL does not predict the DC.\n",
    "\n",
    "The characteristics of the different Cfl implementations are described in the following table.\n",
    "\n",
    "|                                | Thor[1]    | Daala[1]  | Proposed |\n",
    "|--------------------------------|------------|-----------|----------|\n",
    "| Prediction Domain              | Spatial    | Frequency | Spatial  |\n",
    "| Bitstream Signaling            | None       | Sign bit  | Alpha    |\n",
    "| Encoder model fitting          | Yes        | Via PVQ   | Yes      |\n",
    "| Decoder model fitting          | Yes        | No        | No       |\n",
    "| Luma values used for fit       | Predicted  | Luma      | Luma     |\n",
    "| Chroma values used for fit     | Predicted  | Chroma    | Chroma   |\n"
   ]
  },
  {
   "cell_type": "markdown",
   "metadata": {},
   "source": [
    "## CfL Fundamentals\n",
    "\n",
    "Assuming the existence of a linear relationship between the $i$th reconstructed Luma pixel $\\hat{L}_i$ and $i$th Chroma pixel $C_i$, a chromatic prediction of $C_i$ can be computed using the following equation $$C'_i = \\alpha \\times \\hat{L}_i + \\beta,$$\n",
    "where $\\alpha$ is the slope and $\\beta$ is y intercept. For a block of $N$ pixels, $\\alpha$ and $\\beta$ are computed with the least squares equations as follows\n",
    "\n",
    "$$\\alpha = \\frac{N \\sum_i \\hat{L}_i C_i - \\sum_i \\hat{L}_i \\sum_i C_i}{N \\sum_i L_i^2 - (\\sum \\hat{L}_i)^2},$$\n",
    "\n",
    "$$\\beta = \\frac{\\sum_i C_i - \\alpha \\sum_i \\hat{L}_i}{N}.$$\n",
    "\n",
    "As explained in [1], signaling $\\alpha$ and $\\beta$ on a per block basis is too expensive. To avoid signaling these parameters, Midtskogen proposes instead to compute $\\alpha'$ and $\\beta'$ by replacing the actual values $\\hat{L}$ and $C$ by their predicted counterparts $L'$ and $C'$. The advantage of such and approach is that $L'$ and $C'$ are available to both the encoder and decoder, the model fitting is performed during encoding and during decoding, thus signaling alpha and beta is avoided. The disadvantage of this approach is that the model will fit the prediction but not the actual data. In the context of intra coding the prediction might significantly differ from the actual values. This loss of precision will increase distortion and rate.\n",
    "\n",
    "Fitting the model on the real values of $\\hat{L}$ and $C$ generates a more precise model. However, this information is not available to the decoder and must be signaled in the bitstream. In this proposal, we will present different techniques to reduce the rate required to signal the model fitting parameters.\n",
    "\n",
    "Let $\\bar{L}$ be the subtraction of $\\hat{L}$ by its average for a given block. Notice that $\\bar{L}$ is zero mean, it follows that\n",
    "\n",
    "$$\\sum_i \\bar{L_i} = 0.$$\n",
    "\n",
    "Notice that when we replace $\\hat{L}$ with $\\bar{L}$ in the equation of $\\beta$, we get the average chromatic pixel value. It just so happens that the intra prediction mode DC_PRED is designed to predict the average pixel value.\n",
    "\n",
    "Next, let $\\bar{C'}$ be the subtraction of $C$ by the predicted average using DC_PRED.\n",
    "\n",
    "Replacing $\\hat{L}$ by $\\bar{L}$ and $C$ with $\\bar{C'}$ in the equations of $\\alpha$ and $\\beta$ yields\n",
    "\n",
    "$$\\bar{\\alpha} = \\frac{\\sum_i \\bar{L}_i \\bar{C'}_i}{\\sum_i \\bar{L}_i^2},$$\n",
    "\n",
    "$$\\bar{\\beta} = \\frac{\\sum_i \\bar{C'}_i}{N}.$$\n",
    "\n",
    "Notice that $\\bar{\\beta}$ is the average of the residual of the chromatic block.\n",
    "\n",
    "Based on the assumption that $\\bar{\\beta} \\approx 0$, we predict chroma as follows\n",
    "\n",
    "$$ C''_i = \\bar{\\alpha} \\times \\bar{L_i} + DC\\_PRED $$\n"
   ]
  },
  {
   "cell_type": "markdown",
   "metadata": {},
   "source": [
    "## References\n",
    "[1] Steinar Midtskogen,\"Improved chroma prediction\" IETF draft-midtskogen-netvc-chromapred-02 https://tools.ietf.org/html/draft-midtskogen-netvc-chromapred-02 (October 2016)\n",
    "\n",
    "[2] Nathan E. Egge and Jean-Marc Valin, \"Predicting Chroma from Luma with Frequency Domain Intra Prediction\", https://people.xiph.org/~unlord/spie_cfl.pdf (April 2016)"
   ]
  }
 ],
 "metadata": {
  "kernelspec": {
   "display_name": "Octave",
   "language": "octave",
   "name": "octave"
  },
  "language_info": {
   "file_extension": ".m",
   "help_links": [
    {
     "text": "GNU Octave",
     "url": "https://www.gnu.org/software/octave/support.html"
    },
    {
     "text": "Octave Kernel",
     "url": "https://github.com/Calysto/octave_kernel"
    },
    {
     "text": "MetaKernel Magics",
     "url": "https://github.com/calysto/metakernel/blob/master/metakernel/magics/README.md"
    }
   ],
   "mimetype": "text/x-octave",
   "name": "octave",
   "version": "4.0.0"
  }
 },
 "nbformat": 4,
 "nbformat_minor": 2
}
